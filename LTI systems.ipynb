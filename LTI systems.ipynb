{
 "cells": [
  {
   "cell_type": "markdown",
   "id": "45bf924d",
   "metadata": {},
   "source": [
    "# Linear Time-Invariant systems\n",
    "This notebook comes up with visualization tools to plot trajectories of 2D LTI systems. For such systems, we have\n",
    "$$\n",
    "\\dot{\\underline{X}} = \\mathbf{A}\\underline{X}\n",
    "$$\n",
    "with $\\underline{X} \\in \\mathbb{R}^2$ and $\\mathbf{A} \\in \\mathbb{R}^{2\\times2}$"
   ]
  },
  {
   "cell_type": "code",
   "execution_count": null,
   "id": "58e29434",
   "metadata": {},
   "outputs": [],
   "source": [
    "import numpy as np\n",
    "from math import cos, sin\n",
    "import random\n",
    "from tools import Evolutions\n",
    "%matplotlib"
   ]
  },
  {
   "cell_type": "markdown",
   "id": "629d6c3d",
   "metadata": {},
   "source": [
    "### 1 asymptotically stable, 1 unstable"
   ]
  },
  {
   "cell_type": "code",
   "execution_count": null,
   "id": "7c2d1bb4",
   "metadata": {},
   "outputs": [],
   "source": [
    "N = 100\n",
    "dt = 0.01\n",
    "\n",
    "# Matrix\n",
    "A = np.array(((1., 0.),\n",
    "             (0., -1.)))\n",
    "\n",
    "theta = 30 / 180 * np.pi\n",
    "M = np.array(((cos(theta), -sin(theta)),\n",
    "              (sin(theta), cos(theta))))\n",
    "\n",
    "# Spin the eigenvectors\n",
    "A_tilde = np.linalg.inv(M) @ A @ M\n",
    "\n",
    "evo = Evolutions(A_tilde, dt, N)\n",
    "evo.play()"
   ]
  },
  {
   "cell_type": "markdown",
   "id": "63b5a510",
   "metadata": {},
   "source": [
    "### 2 asymptotically stable"
   ]
  },
  {
   "cell_type": "code",
   "execution_count": null,
   "id": "7c2eaa84",
   "metadata": {},
   "outputs": [],
   "source": [
    "N = 300\n",
    "dt = 0.01\n",
    "\n",
    "# Matrix\n",
    "A = np.array(((-1.5, 0.),\n",
    "             (0., -.5)))\n",
    "\n",
    "M = np.array(((random.random(), random.random()),\n",
    "              (random.random(), random.random())))\n",
    "\n",
    "# Change base randomly\n",
    "A_tilde = np.linalg.inv(M) @ A @ M\n",
    "\n",
    "evo = Evolutions(A_tilde, dt, N)\n",
    "evo.play()"
   ]
  },
  {
   "cell_type": "markdown",
   "id": "dc02d8cc",
   "metadata": {},
   "source": [
    "### 1 asymptotically stable, 1 stable but not asymp., yet converging"
   ]
  },
  {
   "cell_type": "code",
   "execution_count": null,
   "id": "5f71340e",
   "metadata": {},
   "outputs": [],
   "source": [
    "N = 300\n",
    "dt = 0.01\n",
    "\n",
    "# Matrix\n",
    "A = np.array(((-1.5, 0.),\n",
    "             (0., complex(0, 1.))))\n",
    "\n",
    "evo = Evolutions(A, dt, N)\n",
    "evo.play()"
   ]
  },
  {
   "cell_type": "markdown",
   "id": "fe298c13",
   "metadata": {},
   "source": [
    "### 2 stable, not asymptotically, not converging"
   ]
  },
  {
   "cell_type": "code",
   "execution_count": null,
   "id": "26da7a4d",
   "metadata": {},
   "outputs": [],
   "source": [
    "N = 500\n",
    "dt = 0.01\n",
    "\n",
    "# Matrix\n",
    "A = np.array(((complex(0, 1.), 0.),\n",
    "             (0., complex(0, -1.))))\n",
    "\n",
    "evo = Evolutions(A, dt, N, slicing=50)\n",
    "evo.play()"
   ]
  },
  {
   "cell_type": "markdown",
   "id": "cd31504a",
   "metadata": {},
   "source": [
    "Change base"
   ]
  },
  {
   "cell_type": "code",
   "execution_count": null,
   "id": "89e4574c",
   "metadata": {},
   "outputs": [],
   "source": [
    "N = 500\n",
    "dt = 0.01\n",
    "\n",
    "# Matrix\n",
    "A = np.array(((0, -1.),\n",
    "             (1., 0.)))\n",
    "\n",
    "evo = Evolutions(A, dt, N, slicing=50)\n",
    "evo.play()"
   ]
  },
  {
   "cell_type": "markdown",
   "id": "3147d223",
   "metadata": {},
   "source": [
    "Random base"
   ]
  },
  {
   "cell_type": "code",
   "execution_count": null,
   "id": "9e506a9e",
   "metadata": {},
   "outputs": [],
   "source": [
    "N = 500\n",
    "dt = 0.01\n",
    "\n",
    "# Matrix\n",
    "A = np.array(((complex(0, 1.), 0.),\n",
    "             (0., complex(0, -1.))))\n",
    "\n",
    "def randc():\n",
    "    return complex(random.random(), random.random())\n",
    "\n",
    "M = np.array(((randc(), randc()),\n",
    "             (randc(), randc())))\n",
    "\n",
    "# Change base randomly\n",
    "A_tilde = np.linalg.inv(M) @ A @ M\n",
    "\n",
    "evo = Evolutions(A_tilde, dt, N, slicing=50)\n",
    "evo.play()"
   ]
  },
  {
   "cell_type": "markdown",
   "id": "ed4e5422",
   "metadata": {},
   "source": [
    "### 1 degenerated eigenvalue"
   ]
  },
  {
   "cell_type": "code",
   "execution_count": null,
   "id": "e491bbcc",
   "metadata": {},
   "outputs": [],
   "source": [
    "N = 1000\n",
    "dt = 0.01\n",
    "\n",
    "# Matrix\n",
    "A = np.array(((complex(0, 1), 1.),\n",
    "             (0, complex(0,1))))\n",
    "\n",
    "evo = Evolutions(A, dt, N)\n",
    "evo.play()"
   ]
  }
 ],
 "metadata": {
  "kernelspec": {
   "display_name": "Python 3 (ipykernel)",
   "language": "python",
   "name": "python3"
  },
  "language_info": {
   "codemirror_mode": {
    "name": "ipython",
    "version": 3
   },
   "file_extension": ".py",
   "mimetype": "text/x-python",
   "name": "python",
   "nbconvert_exporter": "python",
   "pygments_lexer": "ipython3",
   "version": "3.8.12"
  }
 },
 "nbformat": 4,
 "nbformat_minor": 5
}
